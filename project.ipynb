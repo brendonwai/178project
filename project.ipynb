{
 "cells": [
  {
   "cell_type": "markdown",
   "metadata": {},
   "source": [
    "# 178 Project"
   ]
  },
  {
   "cell_type": "code",
   "execution_count": 1,
   "metadata": {
    "collapsed": false
   },
   "outputs": [
    {
     "name": "stderr",
     "output_type": "stream",
     "text": [
      "/Users/brendonwai/Developer/Anaconda2/lib/python2.7/site-packages/matplotlib/font_manager.py:273: UserWarning: Matplotlib is building the font cache using fc-list. This may take a moment.\n",
      "  warnings.warn('Matplotlib is building the font cache using fc-list. This may take a moment.')\n"
     ]
    }
   ],
   "source": [
    "#import everything\n",
    "import numpy as np\n",
    "import matplotlib.pyplot as plt\n",
    "import matplotlib\n",
    "import mltools as ml\n",
    "%matplotlib inline"
   ]
  },
  {
   "cell_type": "code",
   "execution_count": 17,
   "metadata": {
    "collapsed": false
   },
   "outputs": [],
   "source": [
    "#Getting the data\n",
    "X = np.genfromtxt(\"data/X_train.txt\", delimiter=None)\n",
    "Y = np.genfromtxt(\"data/Y_train.txt\", delimiter=None)\n",
    "X_test = np.genfromtxt(\"data/X_test.txt\", delimiter=None)"
   ]
  },
  {
   "cell_type": "code",
   "execution_count": 78,
   "metadata": {
    "collapsed": true
   },
   "outputs": [],
   "source": [
    "classifiers = []"
   ]
  },
  {
   "cell_type": "code",
   "execution_count": 79,
   "metadata": {
    "collapsed": true
   },
   "outputs": [],
   "source": [
    "#knn learners\n",
    "#train a knn learner with different set of 3 features each time\n",
    "#using 20000 randomly chosen data points with k = 800\n",
    "#can only predict with data with only 3 features as a result\n",
    "# -> modify when predicting with first 12 learners\n",
    "#DON'T RUN MORE THAN ONCE\n",
    "for i in range(0,12):\n",
    "    X,Y = ml.shuffleData(X,Y)\n",
    "    Xsub = X[:20000,i:i+3]\n",
    "    Ysub = Y[:20000]\n",
    "    knn = ml.knn.knnClassify()\n",
    "    knn.train(Xsub,Ysub,800)\n",
    "    classifiers.append(knn)"
   ]
  },
  {
   "cell_type": "code",
   "execution_count": 80,
   "metadata": {
    "collapsed": false
   },
   "outputs": [
    {
     "name": "stdout",
     "output_type": "stream",
     "text": [
      "[knn classifier, 2 classes, K=800, knn classifier, 2 classes, K=800, knn classifier, 2 classes, K=800, knn classifier, 2 classes, K=800, knn classifier, 2 classes, K=800, knn classifier, 2 classes, K=800, knn classifier, 2 classes, K=800, knn classifier, 2 classes, K=800, knn classifier, 2 classes, K=800, knn classifier, 2 classes, K=800, knn classifier, 2 classes, K=800, knn classifier, 2 classes, K=800]\n"
     ]
    }
   ],
   "source": []
  }
 ],
 "metadata": {
  "anaconda-cloud": {},
  "kernelspec": {
   "display_name": "Python [default]",
   "language": "python",
   "name": "python2"
  },
  "language_info": {
   "codemirror_mode": {
    "name": "ipython",
    "version": 2
   },
   "file_extension": ".py",
   "mimetype": "text/x-python",
   "name": "python",
   "nbconvert_exporter": "python",
   "pygments_lexer": "ipython2",
   "version": "2.7.12"
  }
 },
 "nbformat": 4,
 "nbformat_minor": 1
}
